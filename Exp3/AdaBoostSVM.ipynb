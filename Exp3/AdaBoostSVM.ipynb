{
 "cells": [
  {
   "cell_type": "code",
   "execution_count": 71,
   "metadata": {},
   "outputs": [],
   "source": [
    "import pickle\n",
    "import pandas as pd\n",
    "# 从本地文件加载变量\n",
    "with open('/Users/tian/Downloads/data.pkl', 'rb') as f:\n",
    "    X_train, X_test, y_train, y_test = pickle.load(f)"
   ]
  },
  {
   "cell_type": "code",
   "execution_count": 36,
   "metadata": {},
   "outputs": [],
   "source": [
    "from sklearn.base import clone\n",
    "import numpy as np\n",
    "\n",
    "class SimpleAdaBoost:\n",
    "    def __init__(self, base_estimator, n_estimators=10):\n",
    "        self.base_estimator = base_estimator\n",
    "        self.n_estimators = n_estimators\n",
    "        self.classifiers = []\n",
    "        self.alphas = []\n",
    "\n",
    "    def fit(self, X, y):\n",
    "        sample_weights = np.ones(X.shape[0]) / X.shape[0]\n",
    "        for _ in range(self.n_estimators):\n",
    "            clf = clone(self.base_estimator)\n",
    "            clf.fit(X, y, sample_weight=sample_weights)\n",
    "            pred = clf.predict(X)\n",
    "            # 计算错误向量，其中错误为1，正确为0\n",
    "            errors = pred != y\n",
    "            # 用错误向量和样本权重计算加权错误率\n",
    "            error_rate = np.dot(sample_weights, errors) / np.sum(sample_weights)\n",
    "            # 避免除零错误，对极低的错误率做调整\n",
    "            error_rate = max(error_rate, 1e-10)\n",
    "            alpha = 0.5 * np.log((1 - error_rate) / error_rate)\n",
    "            # alpha = min(alpha, 0.6)  # max_alpha 是一个超参数，可以根据实际情况调整\n",
    "            # 更新样本权重\n",
    "            sample_weights *= np.exp(-alpha * y * (2 * errors - 1))\n",
    "            # sample_weights = np.maximum(sample_weights, 0.01/len(y))\n",
    "            sample_weights /= np.sum(sample_weights)\n",
    "            \n",
    "            self.classifiers.append(clf)\n",
    "            self.alphas.append(alpha)\n",
    "\n",
    "    def predict(self, X):\n",
    "        clf_preds = np.array([alpha * clf.predict(X) for clf, alpha in zip(self.classifiers, self.alphas)])\n",
    "        return np.sign(np.sum(clf_preds, axis=0))"
   ]
  },
  {
   "cell_type": "code",
   "execution_count": 37,
   "metadata": {},
   "outputs": [],
   "source": [
    "from tqdm import tqdm  # 导入tqdm\n",
    "import numpy as np\n",
    "from sklearn.base import clone  # 确保clone也被导入\n",
    "\n",
    "class ManualOneVsOneClassifier:\n",
    "    def __init__(self, base_estimator, n_estimators=10):\n",
    "        self.base_estimator = base_estimator\n",
    "        self.n_estimators = n_estimators\n",
    "        self.pairwise_classifiers = []\n",
    "\n",
    "    def fit(self, X, y):\n",
    "        self.classes_ = np.unique(y)\n",
    "        # 为两两分类器组合总数初始化进度条\n",
    "        progress_bar = tqdm(total=len(self.classes_) * (len(self.classes_) - 1) // 2, desc='Training Progress')\n",
    "        for i, class1 in enumerate(self.classes_):\n",
    "            for class2 in self.classes_[i+1:]:\n",
    "                idx = (y == class1) | (y == class2)\n",
    "                indices = np.where(idx)[0]\n",
    "                X_pair = X[indices]\n",
    "                y_pair = y[indices]\n",
    "                y_binary = np.where(y_pair == class1, 1, -1)\n",
    "                model = SimpleAdaBoost(clone(self.base_estimator), self.n_estimators)\n",
    "                model.fit(X_pair, y_binary)\n",
    "                self.pairwise_classifiers.append((class1, class2, model))\n",
    "                progress_bar.update(1)  # 更新进度条\n",
    "        progress_bar.close()  # 完成后关闭进度条\n",
    "\n",
    "    def predict(self, X):\n",
    "        votes = np.ones((X.shape[0], len(self.classes_))) * (1 / len(self.classes_))\n",
    "        for class1, class2, model in self.pairwise_classifiers:\n",
    "            preds = model.predict(X)\n",
    "            index_class1 = np.where(self.classes_ == class1)[0][0]\n",
    "            index_class2 = np.where(self.classes_ == class2)[0][0]\n",
    "            for i, pred in enumerate(preds):\n",
    "                if pred == 1:\n",
    "                    votes[i, index_class1] += 1\n",
    "                else:\n",
    "                    votes[i, index_class2] += 1\n",
    "        return self.classes_[np.argmax(votes, axis=1)]\n"
   ]
  },
  {
   "cell_type": "code",
   "execution_count": 7,
   "metadata": {},
   "outputs": [],
   "source": [
    "from sklearn.svm import SVC"
   ]
  },
  {
   "cell_type": "code",
   "execution_count": 69,
   "metadata": {},
   "outputs": [
    {
     "name": "stderr",
     "output_type": "stream",
     "text": [
      "Training Progress:   0%|          | 0/10 [00:00<?, ?it/s]"
     ]
    },
    {
     "name": "stderr",
     "output_type": "stream",
     "text": [
      "Training Progress: 100%|██████████| 10/10 [4:49:13<00:00, 1735.33s/it]\n"
     ]
    }
   ],
   "source": [
    "base_classifier = SVC(kernel='rbf', gamma=0.1, class_weight='balanced', C=100)\n",
    "ovo_classifier = ManualOneVsOneClassifier(base_classifier, n_estimators=3)\n",
    "ovo_classifier.fit(X_train[:20000], np.array(y_train[:20000]))\n",
    "predictions = ovo_classifier.predict(X_test[:2000])"
   ]
  },
  {
   "cell_type": "code",
   "execution_count": 72,
   "metadata": {},
   "outputs": [
    {
     "name": "stdout",
     "output_type": "stream",
     "text": [
      "Accuracy: 0.581\n",
      "Precision: 0.1162\n",
      "Recall: 0.2\n",
      "F1 Score: 0.1469955724225174\n",
      "Confusion Matrix:\n",
      "[[   0    0    0    0   92]\n",
      " [   0    0    0    0   96]\n",
      " [   0    0    0    0  223]\n",
      " [   0    0    0    0  427]\n",
      " [   0    0    0    0 1162]]\n"
     ]
    },
    {
     "name": "stderr",
     "output_type": "stream",
     "text": [
      "/opt/anaconda3/envs/ML/lib/python3.11/site-packages/sklearn/metrics/_classification.py:1469: UndefinedMetricWarning: Precision is ill-defined and being set to 0.0 in labels with no predicted samples. Use `zero_division` parameter to control this behavior.\n",
      "  _warn_prf(average, modifier, msg_start, len(result))\n"
     ]
    },
    {
     "data": {
      "image/png": "[encoded data removed]",
      "text/plain": [
       "<Figure size 800x600 with 2 Axes>"
      ]
     },
     "metadata": {},
     "output_type": "display_data"
    },
    {
     "name": "stdout",
     "output_type": "stream",
     "text": [
      "Mean Absolute Error (MAE): 0.7645\n",
      "Root Mean Squared Error (RMSE): 1.3518505834595773\n"
     ]
    }
   ],
   "source": [
    "from sklearn.metrics import accuracy_score, precision_score, recall_score, f1_score, confusion_matrix\n",
    "# 计算准确率\n",
    "y_test = y_test[:2000]\n",
    "accuracy = accuracy_score(y_test, predictions)\n",
    "print(\"Accuracy:\", accuracy)\n",
    "\n",
    "# 计算精确度\n",
    "precision = precision_score(y_test, predictions, average='macro') # 'macro' 可以改为其他选项如 'micro', 'weighted', 'samples'\n",
    "print(\"Precision:\", precision)\n",
    "\n",
    "# 计算召回率\n",
    "recall = recall_score(y_test, predictions, average='macro') # 'macro' 可以改为其他选项如 'micro', 'weighted', 'samples'\n",
    "print(\"Recall:\", recall)\n",
    "\n",
    "# 计算F1分数\n",
    "f1 = f1_score(y_test, predictions, average='macro') # 'macro' 可以改为其他选项如 'micro', 'weighted', 'samples'\n",
    "print(\"F1 Score:\", f1)\n",
    "\n",
    "# 输出混淆矩阵\n",
    "conf_matrix = confusion_matrix(y_test, predictions)\n",
    "print(\"Confusion Matrix:\")\n",
    "print(conf_matrix)\n",
    "\n",
    "import matplotlib.pyplot as plt\n",
    "\n",
    "# 绘制热力图\n",
    "plt.figure(figsize=(8, 6))\n",
    "plt.imshow(conf_matrix, interpolation='nearest', cmap='Blues')\n",
    "plt.title('Confusion Matrix')\n",
    "plt.colorbar()\n",
    "\n",
    "# 显示数值\n",
    "for i in range(len(conf_matrix)):\n",
    "    for j in range(len(conf_matrix)):\n",
    "        plt.text(j, i, conf_matrix[i, j], ha='center', va='center', color='black')\n",
    "\n",
    "# 设置坐标轴标签\n",
    "plt.xlabel('Predicted Label')\n",
    "plt.ylabel('True Label')\n",
    "\n",
    "# 设置坐标轴刻度标签\n",
    "tick_marks = range(len(conf_matrix))\n",
    "plt.xticks(tick_marks, tick_marks)\n",
    "plt.yticks(tick_marks, tick_marks)\n",
    "\n",
    "plt.show()\n",
    "\n",
    "\n",
    "from sklearn.metrics import mean_absolute_error, mean_squared_error\n",
    "import numpy as np\n",
    "\n",
    "# 计算MAE\n",
    "mae = mean_absolute_error(y_test, predictions)\n",
    "print(\"Mean Absolute Error (MAE):\", mae)\n",
    "\n",
    "# 计算RMSE\n",
    "mse = mean_squared_error(y_test, predictions)\n",
    "rmse = np.sqrt(mse)\n",
    "print(\"Root Mean Squared Error (RMSE):\", rmse)\n"
   ]
  }
 ],
 "metadata": {
  "kernelspec": {
   "display_name": "ML",
   "language": "python",
   "name": "python3"
  },
  "language_info": {
   "codemirror_mode": {
    "name": "ipython",
    "version": 3
   },
   "file_extension": ".py",
   "mimetype": "text/x-python",
   "name": "python",
   "nbconvert_exporter": "python",
   "pygments_lexer": "ipython3",
   "version": "3.11.9"
  }
 },
 "nbformat": 4,
 "nbformat_minor": 2
}
